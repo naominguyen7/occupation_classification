{
 "cells": [
  {
   "cell_type": "code",
   "execution_count": 27,
   "metadata": {},
   "outputs": [],
   "source": [
    "import pandas as pd, numpy as np\n",
    "import matplotlib.pyplot as plt\n",
    "import seaborn as sns\n",
    "\n",
    "from scipy.sparse import hstack\n",
    "from sklearn.svm import SVC\n",
    "from build_model import cross_validation\n",
    "from sklearn.model_selection import train_test_split\n",
    "from sklearn.feature_extraction.text import TfidfVectorizer\n",
    "\n",
    "%matplotlib inline\n",
    "data = pd.read_csv('log_data.csv')\n",
    "data = data.fillna('')\n",
    "num_vars = ['favourites_count','followers_count','friends_count','listed_count','statuses_count',\n",
    "                'avg_fav_cnt', 'avg_rt_cnt','max_fav_cnt','max_rt_cnt']"
   ]
  },
  {
   "cell_type": "code",
   "execution_count": 3,
   "metadata": {},
   "outputs": [],
   "source": [
    "result = pd.DataFrame()\n",
    "for vocab_size in [0.1,0.3,0.5]:\n",
    "    models = {}\n",
    "    for weight in ['balanced',None]:\n",
    "        for C in [0.1,1,10,100]:\n",
    "            models[str(weight)+str(C)] = SVC(C=C, \n",
    "                                            class_weight=weight,\n",
    "                                            kernel='linear')\n",
    "    result = result.append(cross_validation(vocab_size, models,data,0.2,7))"
   ]
  },
  {
   "cell_type": "code",
   "execution_count": 43,
   "metadata": {},
   "outputs": [
    {
     "data": {
      "text/html": [
       "<div>\n",
       "<style scoped>\n",
       "    .dataframe tbody tr th:only-of-type {\n",
       "        vertical-align: middle;\n",
       "    }\n",
       "\n",
       "    .dataframe tbody tr th {\n",
       "        vertical-align: top;\n",
       "    }\n",
       "\n",
       "    .dataframe thead th {\n",
       "        text-align: right;\n",
       "    }\n",
       "</style>\n",
       "<table border=\"1\" class=\"dataframe\">\n",
       "  <thead>\n",
       "    <tr style=\"text-align: right;\">\n",
       "      <th></th>\n",
       "      <th>category</th>\n",
       "      <th>model</th>\n",
       "      <th>test_score</th>\n",
       "      <th>vocab_size</th>\n",
       "    </tr>\n",
       "  </thead>\n",
       "  <tbody>\n",
       "    <tr>\n",
       "      <th>23</th>\n",
       "      <td>Journalist</td>\n",
       "      <td>None0.1</td>\n",
       "      <td>0.757282</td>\n",
       "      <td>0.1</td>\n",
       "    </tr>\n",
       "    <tr>\n",
       "      <th>23</th>\n",
       "      <td>Journalist</td>\n",
       "      <td>None0.1</td>\n",
       "      <td>0.747573</td>\n",
       "      <td>0.3</td>\n",
       "    </tr>\n",
       "    <tr>\n",
       "      <th>23</th>\n",
       "      <td>Journalist</td>\n",
       "      <td>None0.1</td>\n",
       "      <td>0.883495</td>\n",
       "      <td>0.5</td>\n",
       "    </tr>\n",
       "    <tr>\n",
       "      <th>22</th>\n",
       "      <td>Journalist</td>\n",
       "      <td>None1</td>\n",
       "      <td>0.815534</td>\n",
       "      <td>0.1</td>\n",
       "    </tr>\n",
       "    <tr>\n",
       "      <th>22</th>\n",
       "      <td>Journalist</td>\n",
       "      <td>None1</td>\n",
       "      <td>0.796117</td>\n",
       "      <td>0.3</td>\n",
       "    </tr>\n",
       "    <tr>\n",
       "      <th>22</th>\n",
       "      <td>Journalist</td>\n",
       "      <td>None1</td>\n",
       "      <td>0.941748</td>\n",
       "      <td>0.5</td>\n",
       "    </tr>\n",
       "    <tr>\n",
       "      <th>20</th>\n",
       "      <td>Journalist</td>\n",
       "      <td>None10</td>\n",
       "      <td>0.805825</td>\n",
       "      <td>0.1</td>\n",
       "    </tr>\n",
       "    <tr>\n",
       "      <th>20</th>\n",
       "      <td>Journalist</td>\n",
       "      <td>None10</td>\n",
       "      <td>0.825243</td>\n",
       "      <td>0.3</td>\n",
       "    </tr>\n",
       "    <tr>\n",
       "      <th>20</th>\n",
       "      <td>Journalist</td>\n",
       "      <td>None10</td>\n",
       "      <td>0.883495</td>\n",
       "      <td>0.5</td>\n",
       "    </tr>\n",
       "    <tr>\n",
       "      <th>16</th>\n",
       "      <td>Journalist</td>\n",
       "      <td>None100</td>\n",
       "      <td>0.776699</td>\n",
       "      <td>0.1</td>\n",
       "    </tr>\n",
       "    <tr>\n",
       "      <th>16</th>\n",
       "      <td>Journalist</td>\n",
       "      <td>None100</td>\n",
       "      <td>0.757282</td>\n",
       "      <td>0.3</td>\n",
       "    </tr>\n",
       "    <tr>\n",
       "      <th>16</th>\n",
       "      <td>Journalist</td>\n",
       "      <td>None100</td>\n",
       "      <td>0.883495</td>\n",
       "      <td>0.5</td>\n",
       "    </tr>\n",
       "    <tr>\n",
       "      <th>19</th>\n",
       "      <td>Journalist</td>\n",
       "      <td>balanced0.1</td>\n",
       "      <td>0.737864</td>\n",
       "      <td>0.1</td>\n",
       "    </tr>\n",
       "    <tr>\n",
       "      <th>19</th>\n",
       "      <td>Journalist</td>\n",
       "      <td>balanced0.1</td>\n",
       "      <td>0.737864</td>\n",
       "      <td>0.3</td>\n",
       "    </tr>\n",
       "    <tr>\n",
       "      <th>19</th>\n",
       "      <td>Journalist</td>\n",
       "      <td>balanced0.1</td>\n",
       "      <td>0.834951</td>\n",
       "      <td>0.5</td>\n",
       "    </tr>\n",
       "    <tr>\n",
       "      <th>17</th>\n",
       "      <td>Journalist</td>\n",
       "      <td>balanced1</td>\n",
       "      <td>0.815534</td>\n",
       "      <td>0.1</td>\n",
       "    </tr>\n",
       "    <tr>\n",
       "      <th>17</th>\n",
       "      <td>Journalist</td>\n",
       "      <td>balanced1</td>\n",
       "      <td>0.825243</td>\n",
       "      <td>0.3</td>\n",
       "    </tr>\n",
       "    <tr>\n",
       "      <th>17</th>\n",
       "      <td>Journalist</td>\n",
       "      <td>balanced1</td>\n",
       "      <td>0.932039</td>\n",
       "      <td>0.5</td>\n",
       "    </tr>\n",
       "    <tr>\n",
       "      <th>21</th>\n",
       "      <td>Journalist</td>\n",
       "      <td>balanced10</td>\n",
       "      <td>0.805825</td>\n",
       "      <td>0.1</td>\n",
       "    </tr>\n",
       "    <tr>\n",
       "      <th>21</th>\n",
       "      <td>Journalist</td>\n",
       "      <td>balanced10</td>\n",
       "      <td>0.786408</td>\n",
       "      <td>0.3</td>\n",
       "    </tr>\n",
       "    <tr>\n",
       "      <th>21</th>\n",
       "      <td>Journalist</td>\n",
       "      <td>balanced10</td>\n",
       "      <td>0.912621</td>\n",
       "      <td>0.5</td>\n",
       "    </tr>\n",
       "    <tr>\n",
       "      <th>18</th>\n",
       "      <td>Journalist</td>\n",
       "      <td>balanced100</td>\n",
       "      <td>0.776699</td>\n",
       "      <td>0.1</td>\n",
       "    </tr>\n",
       "    <tr>\n",
       "      <th>18</th>\n",
       "      <td>Journalist</td>\n",
       "      <td>balanced100</td>\n",
       "      <td>0.757282</td>\n",
       "      <td>0.3</td>\n",
       "    </tr>\n",
       "    <tr>\n",
       "      <th>18</th>\n",
       "      <td>Journalist</td>\n",
       "      <td>balanced100</td>\n",
       "      <td>0.883495</td>\n",
       "      <td>0.5</td>\n",
       "    </tr>\n",
       "  </tbody>\n",
       "</table>\n",
       "</div>"
      ],
      "text/plain": [
       "      category        model  test_score  vocab_size\n",
       "23  Journalist      None0.1    0.757282         0.1\n",
       "23  Journalist      None0.1    0.747573         0.3\n",
       "23  Journalist      None0.1    0.883495         0.5\n",
       "22  Journalist        None1    0.815534         0.1\n",
       "22  Journalist        None1    0.796117         0.3\n",
       "22  Journalist        None1    0.941748         0.5\n",
       "20  Journalist       None10    0.805825         0.1\n",
       "20  Journalist       None10    0.825243         0.3\n",
       "20  Journalist       None10    0.883495         0.5\n",
       "16  Journalist      None100    0.776699         0.1\n",
       "16  Journalist      None100    0.757282         0.3\n",
       "16  Journalist      None100    0.883495         0.5\n",
       "19  Journalist  balanced0.1    0.737864         0.1\n",
       "19  Journalist  balanced0.1    0.737864         0.3\n",
       "19  Journalist  balanced0.1    0.834951         0.5\n",
       "17  Journalist    balanced1    0.815534         0.1\n",
       "17  Journalist    balanced1    0.825243         0.3\n",
       "17  Journalist    balanced1    0.932039         0.5\n",
       "21  Journalist   balanced10    0.805825         0.1\n",
       "21  Journalist   balanced10    0.786408         0.3\n",
       "21  Journalist   balanced10    0.912621         0.5\n",
       "18  Journalist  balanced100    0.776699         0.1\n",
       "18  Journalist  balanced100    0.757282         0.3\n",
       "18  Journalist  balanced100    0.883495         0.5"
      ]
     },
     "execution_count": 43,
     "metadata": {},
     "output_type": "execute_result"
    }
   ],
   "source": [
    "result[result.category=='Journalist'].sort_values(['category','model','vocab_size'])"
   ]
  },
  {
   "cell_type": "code",
   "execution_count": null,
   "metadata": {},
   "outputs": [],
   "source": [
    "result.to_csv('phase2_summary.csv',)"
   ]
  },
  {
   "cell_type": "code",
   "execution_count": 40,
   "metadata": {},
   "outputs": [],
   "source": [
    "def customized_tfidf(X_train, X_test, y_train, category, var_name):\n",
    "    categories = ['Politician', 'Trader', 'Journalist']\n",
    "    text_cat = [' '.join(X_train[var_name][y_train == cat]) \n",
    "                for cat in categories]\n",
    "    tfidf = TfidfVectorizer(min_df=1, sublinear_tf=True, stop_words='english')\n",
    "    score_cat = tfidf.fit_transform(text_cat).toarray()[categories.index(category)]\n",
    "    tfidf_train = tfidf.transform(X_train[var_name])\n",
    "    tfidf_test = tfidf.transform(X_test[var_name])\n",
    "    return {'tfidf': tfidf,\n",
    "            'score': score_cat,\n",
    "            'tfidf_train': tfidf_train,\n",
    "            'tfidf_test': tfidf_test}\n",
    "\n",
    "def customized_svc(category, C, vocab_size, i):\n",
    "    result = []\n",
    "    num_vars = ['favourites_count', 'followers_count', 'friends_count', 'listed_count', 'statuses_count',\n",
    "                'avg_fav_cnt', 'avg_rt_cnt', 'max_fav_cnt', 'max_rt_cnt']\n",
    "    X_train, X_test, y_train, y_test = train_test_split(data[num_vars + ['tweets', 'description']],\n",
    "                                                        data.Category, test_size=0.2, random_state=i,\n",
    "                                                        stratify=data.Category)\n",
    "    tfidf_tweets = customized_tfidf(X_train, X_test, y_train, category, 'tweets')\n",
    "    tfidf_description = customized_tfidf(X_train,X_test, y_train, category, 'description')\n",
    "    \n",
    "    sorted_twind = np.argsort(-tfidf_tweets['score'])\n",
    "    remove_tw_ind = sorted_twind[int(vocab_size * len(sorted_twind)):]\n",
    "\n",
    "    sorted_bioind = np.argsort(-tfidf_description['score'])\n",
    "    remove_bio_ind = sorted_bioind[int(vocab_size * len(sorted_bioind)):]\n",
    "    \n",
    "    train_tw = np.delete(tfidf_tweets['tfidf_train'].toarray(), remove_tw_ind, axis=1)\n",
    "    train_bio = np.delete(tfidf_description['tfidf_train'].toarray(), remove_bio_ind, axis=1)\n",
    "\n",
    "    test_tw = np.delete(tfidf_tweets['tfidf_test'].toarray(), remove_tw_ind, axis=1)\n",
    "    test_bio = np.delete(tfidf_description['tfidf_test'].toarray(), remove_bio_ind, axis=1)\n",
    "\n",
    "    X_train_dtm = hstack((X_train[num_vars], train_bio, train_tw)).toarray()\n",
    "    X_test_dtm = hstack((X_test[num_vars], test_bio, test_tw)).toarray()\n",
    "\n",
    "    clf = SVC(C=C, random_state=i, kernel='linear')\n",
    "    clf.fit(X_train_dtm, y_train==category)\n",
    "    return [{'category':category,\n",
    "            'C':C,\n",
    "            'vocab_size':vocab_size,\n",
    "            'test_score':clf.score(X_test_dtm, y_test==category)}]\n",
    "            \n",
    "\n",
    "    "
   ]
  },
  {
   "cell_type": "code",
   "execution_count": 44,
   "metadata": {},
   "outputs": [
    {
     "name": "stdout",
     "output_type": "stream",
     "text": [
      "0\n",
      "1\n",
      "2\n",
      "3\n",
      "4\n",
      "5\n",
      "6\n",
      "7\n",
      "8\n",
      "9\n",
      "10\n",
      "11\n",
      "12\n",
      "13\n",
      "14\n",
      "15\n",
      "16\n",
      "17\n",
      "18\n",
      "19\n",
      "20\n",
      "21\n",
      "22\n",
      "23\n",
      "24\n",
      "25\n",
      "26\n",
      "27\n",
      "28\n",
      "29\n",
      "0\n",
      "1\n",
      "2\n",
      "3\n",
      "4\n",
      "5\n",
      "6\n",
      "7\n",
      "8\n",
      "9\n",
      "10\n",
      "11\n",
      "12\n",
      "13\n",
      "14\n",
      "15\n",
      "16\n",
      "17\n",
      "18\n",
      "19\n",
      "20\n",
      "21\n",
      "22\n",
      "23\n",
      "24\n",
      "25\n",
      "26\n",
      "27\n",
      "28\n",
      "29\n",
      "0\n",
      "1\n",
      "2\n",
      "3\n",
      "4\n",
      "5\n",
      "6\n",
      "7\n",
      "8\n",
      "9\n",
      "10\n",
      "11\n",
      "12\n",
      "13\n",
      "14\n",
      "15\n",
      "16\n",
      "17\n",
      "18\n",
      "19\n",
      "20\n",
      "21\n",
      "22\n",
      "23\n",
      "24\n",
      "25\n",
      "26\n",
      "27\n",
      "28\n",
      "29\n"
     ]
    }
   ],
   "source": [
    "summary = pd.DataFrame()\n",
    "for i in range(30):\n",
    "    summary = summary.append(customized_svc(category='Politician',C=1,vocab_size=0.1,i=i))\n",
    "    print(i)\n",
    "for i in range(30):\n",
    "    summary = summary.append(customized_svc(category='Journalist',C=1,vocab_size=0.5,i=i))\n",
    "    print(i)\n",
    "for i in range(30):\n",
    "    summary = summary.append(customized_svc(category='Trader',C=1,vocab_size=0.3,i=i))\n",
    "    print(i)"
   ]
  },
  {
   "cell_type": "code",
   "execution_count": 48,
   "metadata": {},
   "outputs": [
    {
     "data": {
      "text/html": [
       "<div>\n",
       "<style scoped>\n",
       "    .dataframe tbody tr th:only-of-type {\n",
       "        vertical-align: middle;\n",
       "    }\n",
       "\n",
       "    .dataframe tbody tr th {\n",
       "        vertical-align: top;\n",
       "    }\n",
       "\n",
       "    .dataframe thead tr th {\n",
       "        text-align: left;\n",
       "    }\n",
       "\n",
       "    .dataframe thead tr:last-of-type th {\n",
       "        text-align: right;\n",
       "    }\n",
       "</style>\n",
       "<table border=\"1\" class=\"dataframe\">\n",
       "  <thead>\n",
       "    <tr>\n",
       "      <th></th>\n",
       "      <th>C</th>\n",
       "      <th colspan=\"2\" halign=\"left\">test_score</th>\n",
       "      <th>vocab_size</th>\n",
       "    </tr>\n",
       "    <tr>\n",
       "      <th></th>\n",
       "      <th>mean</th>\n",
       "      <th>mean</th>\n",
       "      <th>std</th>\n",
       "      <th>mean</th>\n",
       "    </tr>\n",
       "    <tr>\n",
       "      <th>category</th>\n",
       "      <th></th>\n",
       "      <th></th>\n",
       "      <th></th>\n",
       "      <th></th>\n",
       "    </tr>\n",
       "  </thead>\n",
       "  <tbody>\n",
       "    <tr>\n",
       "      <th>Journalist</th>\n",
       "      <td>1</td>\n",
       "      <td>0.862136</td>\n",
       "      <td>0.028665</td>\n",
       "      <td>0.5</td>\n",
       "    </tr>\n",
       "    <tr>\n",
       "      <th>Politician</th>\n",
       "      <td>1</td>\n",
       "      <td>0.939806</td>\n",
       "      <td>0.024375</td>\n",
       "      <td>0.1</td>\n",
       "    </tr>\n",
       "    <tr>\n",
       "      <th>Trader</th>\n",
       "      <td>1</td>\n",
       "      <td>0.945307</td>\n",
       "      <td>0.018992</td>\n",
       "      <td>0.3</td>\n",
       "    </tr>\n",
       "  </tbody>\n",
       "</table>\n",
       "</div>"
      ],
      "text/plain": [
       "              C test_score           vocab_size\n",
       "           mean       mean       std       mean\n",
       "category                                       \n",
       "Journalist    1   0.862136  0.028665        0.5\n",
       "Politician    1   0.939806  0.024375        0.1\n",
       "Trader        1   0.945307  0.018992        0.3"
      ]
     },
     "execution_count": 48,
     "metadata": {},
     "output_type": "execute_result"
    }
   ],
   "source": [
    "summary.groupby('category').agg({'test_score':[np.mean, np.std],\n",
    "                                 'C':np.mean,\n",
    "                                 'vocab_size': np.mean})"
   ]
  },
  {
   "cell_type": "code",
   "execution_count": 101,
   "metadata": {},
   "outputs": [
    {
     "data": {
      "text/plain": [
       "(array([5., 3., 4., 2., 4., 2., 4., 2., 3., 1.]),\n",
       " array([0.81553398, 0.82621359, 0.8368932 , 0.84757282, 0.85825243,\n",
       "        0.86893204, 0.87961165, 0.89029126, 0.90097087, 0.91165049,\n",
       "        0.9223301 ]),\n",
       " <a list of 10 Patch objects>)"
      ]
     },
     "execution_count": 101,
     "metadata": {},
     "output_type": "execute_result"
    },
    {
     "data": {
      "image/png": "[encoded data removed]",
      "text/plain": [
       "<Figure size 432x288 with 1 Axes>"
      ]
     },
     "metadata": {},
     "output_type": "display_data"
    }
   ],
   "source": [
    "plt.hist(summary.test_score[summary.category=='Journalist'])"
   ]
  },
  {
   "cell_type": "code",
   "execution_count": 56,
   "metadata": {},
   "outputs": [],
   "source": [
    "result = []\n",
    "num_vars = ['favourites_count', 'followers_count', 'friends_count', 'listed_count', 'statuses_count',\n",
    "                'avg_fav_cnt', 'avg_rt_cnt', 'max_fav_cnt', 'max_rt_cnt']\n",
    "X_train, X_test, y_train, y_test = train_test_split(data[num_vars + ['tweets', 'description']],\n",
    "                                                        data.Category, test_size=0.2, random_state=7,\n",
    "                                                        stratify=data.Category)\n",
    "def customized_svc(category, vocab_size):\n",
    "    tfidf_tweets = customized_tfidf(X_train, X_test, y_train, category, 'tweets')\n",
    "    tfidf_description = customized_tfidf(X_train,X_test, y_train, category, 'description')\n",
    "    \n",
    "    sorted_twind = np.argsort(-tfidf_tweets['score'])\n",
    "    remove_tw_ind = sorted_twind[int(vocab_size * len(sorted_twind)):]\n",
    "\n",
    "    sorted_bioind = np.argsort(-tfidf_description['score'])\n",
    "    remove_bio_ind = sorted_bioind[int(vocab_size * len(sorted_bioind)):]\n",
    "    \n",
    "    train_tw = np.delete(tfidf_tweets['tfidf_train'].toarray(), remove_tw_ind, axis=1)\n",
    "    train_bio = np.delete(tfidf_description['tfidf_train'].toarray(), remove_bio_ind, axis=1)\n",
    "\n",
    "    test_tw = np.delete(tfidf_tweets['tfidf_test'].toarray(), remove_tw_ind, axis=1)\n",
    "    test_bio = np.delete(tfidf_description['tfidf_test'].toarray(), remove_bio_ind, axis=1)\n",
    "\n",
    "    X_train_dtm = hstack((X_train[num_vars], train_bio, train_tw)).toarray()\n",
    "    X_test_dtm = hstack((X_test[num_vars], test_bio, test_tw)).toarray()\n",
    "\n",
    "    clf = SVC(kernel='linear', probability=True)\n",
    "    clf.fit(X_train_dtm, y_train==category)\n",
    "    train_probs = clf.predict_proba(X_train_dtm)\n",
    "    test_probs = clf.predict_proba(X_test_dtm)\n",
    "    return clf, train_probs, test_probs\n",
    "    "
   ]
  },
  {
   "cell_type": "code",
   "execution_count": 58,
   "metadata": {},
   "outputs": [],
   "source": [
    "pol_clf, pol_train, pol_test = customized_svc('Politician', 0.1)\n",
    "jour_clf, jour_train, jour_test = customized_svc('Journalist', 0.5)\n",
    "trader_clf, trader_train, trader_test = customized_svc('Trader',0.3)"
   ]
  },
  {
   "cell_type": "code",
   "execution_count": 74,
   "metadata": {},
   "outputs": [],
   "source": [
    "ensemble_train = pd.DataFrame({\n",
    "    'category':y_train,\n",
    "    'Politician':pol_train[:,1],\n",
    "    'Journalist':jour_train[:,1],\n",
    "    'Trader': trader_train[:,1]\n",
    "})\n",
    "\n",
    "ensemble_test = pd.DataFrame({\n",
    "    'category':y_test,\n",
    "    'Politician':pol_test[:,1],\n",
    "    'Journalist':jour_test[:,1],\n",
    "    'Trader': trader_test[:,1]\n",
    "})\n",
    "# ensemble_data['pol>jour'] = ensemble_data['Politician']>ensemble_data['Journalist']\n",
    "# ensemble_data['pol>trader'] = ensemble_data['Politician']>ensemble_data['Trader']\n",
    "# ensemble_data['trader>jour'] = ensemble_data['Trader']>ensemble_data['Journalist']"
   ]
  },
  {
   "cell_type": "code",
   "execution_count": 91,
   "metadata": {},
   "outputs": [
    {
     "data": {
      "text/plain": [
       "0.8737864077669902"
      ]
     },
     "execution_count": 91,
     "metadata": {},
     "output_type": "execute_result"
    }
   ],
   "source": [
    "np.mean(ensemble_test[['Politician', 'Trader', 'Journalist']].idxmax(axis=1)==y_test)"
   ]
  },
  {
   "cell_type": "code",
   "execution_count": 92,
   "metadata": {},
   "outputs": [],
   "source": [
    "from sklearn.metrics import fbeta_score, recall_score, precision_score"
   ]
  },
  {
   "cell_type": "code",
   "execution_count": 93,
   "metadata": {},
   "outputs": [
    {
     "data": {
      "text/plain": [
       "0.8673992673992674"
      ]
     },
     "execution_count": 93,
     "metadata": {},
     "output_type": "execute_result"
    }
   ],
   "source": [
    "fbeta_score(y_test, ensemble_test[['Politician', 'Trader', 'Journalist']].idxmax(axis=1),1,average='macro')"
   ]
  },
  {
   "cell_type": "code",
   "execution_count": 95,
   "metadata": {},
   "outputs": [
    {
     "data": {
      "text/plain": [
       "0.8657905217045002"
      ]
     },
     "execution_count": 95,
     "metadata": {},
     "output_type": "execute_result"
    }
   ],
   "source": [
    "precision_score(y_test, ensemble_test[['Politician', 'Trader', 'Journalist']].idxmax(axis=1),average='macro')"
   ]
  },
  {
   "cell_type": "code",
   "execution_count": 96,
   "metadata": {},
   "outputs": [
    {
     "data": {
      "text/plain": [
       "0.8738277919863598"
      ]
     },
     "execution_count": 96,
     "metadata": {},
     "output_type": "execute_result"
    }
   ],
   "source": [
    "recall_score(y_test, ensemble_test[['Politician', 'Trader', 'Journalist']].idxmax(axis=1),average='macro')"
   ]
  },
  {
   "cell_type": "code",
   "execution_count": 108,
   "metadata": {},
   "outputs": [
    {
     "name": "stdout",
     "output_type": "stream",
     "text": [
      "tweets\n",
      "Politician\n",
      "['wisen', 'wvlegi', 'wvchemleak', 'feingold', 'amp', 'teamronjon', 'council']\n",
      "Trader\n",
      "['eurusd', 'esf', 'forex', 'gbpusd', 'zulutradepnl', 'tgt', 'daytrad']\n",
      "Journalist\n",
      "['avlnew', 'wordwatch', 'newscentermain', 'toread', 'wkbtnew', 'wjtv', 'senzaglutin']\n"
     ]
    }
   ],
   "source": [
    "categories = ['Politician', 'Trader', 'Journalist']\n",
    "print('tweets')\n",
    "text_cat = [' '.join(X_train['tweets'][y_train == cat]) \n",
    "                for cat in categories]\n",
    "tfidf = TfidfVectorizer(min_df=1, sublinear_tf=True, stop_words='english')\n",
    "score_cat = tfidf.fit_transform(text_cat).toarray()\n",
    "vocab = tfidf.get_feature_names()\n",
    "for i in range(3):\n",
    "    print(categories[i])\n",
    "    top_ind = np.argsort(-score_cat[i])[:7]\n",
    "    print([vocab[j] for j in top_ind])"
   ]
  },
  {
   "cell_type": "code",
   "execution_count": 110,
   "metadata": {},
   "outputs": [
    {
     "name": "stdout",
     "output_type": "stream",
     "text": [
      "description\n",
      "Politician\n",
      "['councillor', 'senat', 'member', 'labour', 'conserv', 'minist', 'chair']\n",
      "Trader\n",
      "['trader', 'forex', 'stock', 'trade', 'fx', 'financi', 'option']\n",
      "Journalist\n",
      "['journalist', 'report', 'com', 'produc', 'editor', 'writer', 'photojournalist']\n"
     ]
    }
   ],
   "source": [
    "print('description')\n",
    "text_cat = [' '.join(X_train['description'][y_train == cat]) \n",
    "                for cat in categories]\n",
    "tfidf = TfidfVectorizer(min_df=1, sublinear_tf=True, stop_words='english')\n",
    "score_cat = tfidf.fit_transform(text_cat).toarray()\n",
    "vocab = tfidf.get_feature_names()\n",
    "for i in range(3):\n",
    "    print(categories[i])\n",
    "    top_ind = np.argsort(-score_cat[i])[:7]\n",
    "    print([vocab[j] for j in top_ind])"
   ]
  }
 ],
 "metadata": {
  "kernelspec": {
   "display_name": "Python 3",
   "language": "python",
   "name": "python3"
  },
  "language_info": {
   "codemirror_mode": {
    "name": "ipython",
    "version": 3
   },
   "file_extension": ".py",
   "mimetype": "text/x-python",
   "name": "python",
   "nbconvert_exporter": "python",
   "pygments_lexer": "ipython3",
   "version": "3.5.2"
  }
 },
 "nbformat": 4,
 "nbformat_minor": 2
}
